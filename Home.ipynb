{
  "nbformat": 4,
  "nbformat_minor": 0,
  "metadata": {
    "colab": {
      "name": "Home.ipynb",
      "provenance": [],
      "toc_visible": true,
      "authorship_tag": "ABX9TyNS0qtleViU20sDYcJm1fSH",
      "include_colab_link": true
    },
    "kernelspec": {
      "name": "python3",
      "display_name": "Python 3"
    },
    "language_info": {
      "name": "python"
    }
  },
  "cells": [
    {
      "cell_type": "markdown",
      "metadata": {
        "id": "view-in-github",
        "colab_type": "text"
      },
      "source": [
        "<a href=\"https://colab.research.google.com/github/animesh6219/java7/blob/master/Home.ipynb\" target=\"_parent\"><img src=\"https://colab.research.google.com/assets/colab-badge.svg\" alt=\"Open In Colab\"/></a>"
      ]
    },
    {
      "cell_type": "code",
      "metadata": {
        "id": "sTnosKtxKFbe",
        "colab": {
          "base_uri": "https://localhost:8080/",
          "height": 312
        },
        "outputId": "3e4b1cea-dc25-436d-bc0e-0567cbe425a5"
      },
      "source": [
        "from matplotlib import pyplot as plt\n",
        "import numpy as np\n",
        "x = np.linspace(0,10,100)\n",
        "y = np.sin(x)\n",
        "fig = plt.figure()\n",
        "plt.plot(x,y,'o-',color='b',label='sin(x)')\n",
        "\n",
        "#fig.savefig('sinx.png')\n",
        "plt.xlabel('x values')\n",
        "plt.ylabel('sinx values')\n",
        "plt.title('Sinx Curve')\n",
        "plt.legend(loc='best')"
      ],
      "execution_count": null,
      "outputs": [
        {
          "output_type": "execute_result",
          "data": {
            "text/plain": [
              "<matplotlib.legend.Legend at 0x7feb7efac490>"
            ]
          },
          "metadata": {
            "tags": []
          },
          "execution_count": 33
        },
        {
          "output_type": "display_data",
          "data": {
            "image/png": "[encoded data removed]",
            "text/plain": [
              "<Figure size 432x288 with 1 Axes>"
            ]
          },
          "metadata": {
            "tags": [],
            "needs_background": "light"
          }
        }
      ]
    },
    {
      "cell_type": "code",
      "metadata": {
        "id": "6CRsnl9JoHkd"
      },
      "source": [
        ""
      ],
      "execution_count": null,
      "outputs": []
    },
    {
      "cell_type": "code",
      "metadata": {
        "id": "yJhnKbDAhmQE"
      },
      "source": [
        "x = np.linspace(0,10,30)\n",
        "y = np.sin(x)\n",
        "plt.scatter(x,y)"
      ],
      "execution_count": null,
      "outputs": []
    },
    {
      "cell_type": "code",
      "metadata": {
        "id": "E4nzGxCtoM0i"
      },
      "source": [
        "x=np.random.rand(50)\n",
        "y = np.random.rand(50)\n",
        "colors= np.random.rand(50)\n",
        "sizes = 500*np.random.rand(50)\n",
        "plt.scatter(x,y,s=sizes,c=colors)\n",
        "\n"
      ],
      "execution_count": null,
      "outputs": []
    }
  ]
}